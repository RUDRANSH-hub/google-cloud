{
 "cells": [
  {
   "cell_type": "code",
   "execution_count": 1,
   "id": "c8d1c985",
   "metadata": {},
   "outputs": [],
   "source": [
    "import pandas as pd"
   ]
  },
  {
   "cell_type": "code",
   "execution_count": 4,
   "id": "eb6426fc",
   "metadata": {},
   "outputs": [],
   "source": [
    "df=pd.read_csv(\"R:/priyanshu/Kamla Nehru Institute of Technology, Sultanpur [29 Apr].csv\")\n",
    "df[\"mine\"]=0"
   ]
  },
  {
   "cell_type": "code",
   "execution_count": 7,
   "id": "24362cb4",
   "metadata": {},
   "outputs": [
    {
     "data": {
      "text/html": [
       "<div>\n",
       "<style scoped>\n",
       "    .dataframe tbody tr th:only-of-type {\n",
       "        vertical-align: middle;\n",
       "    }\n",
       "\n",
       "    .dataframe tbody tr th {\n",
       "        vertical-align: top;\n",
       "    }\n",
       "\n",
       "    .dataframe thead th {\n",
       "        text-align: right;\n",
       "    }\n",
       "</style>\n",
       "<table border=\"1\" class=\"dataframe\">\n",
       "  <thead>\n",
       "    <tr style=\"text-align: right;\">\n",
       "      <th></th>\n",
       "      <th>Student Name</th>\n",
       "      <th>Student Email</th>\n",
       "      <th>Institution</th>\n",
       "      <th>Enrolment Date &amp; Time</th>\n",
       "      <th>Enrolment Status</th>\n",
       "      <th>Google Cloud Skills Boost Profile URL</th>\n",
       "      <th># of Quests Completed</th>\n",
       "      <th># of Skill Badges Completed</th>\n",
       "      <th>mine</th>\n",
       "    </tr>\n",
       "  </thead>\n",
       "  <tbody>\n",
       "    <tr>\n",
       "      <th>0</th>\n",
       "      <td>Aniket Nayak</td>\n",
       "      <td>sikunaniket1234@gmail.com</td>\n",
       "      <td>Kamla Nehru Institute of Technology, Sultanpur</td>\n",
       "      <td>Mon Apr 25 2022 20:03:03 GMT+0530 (India Stand...</td>\n",
       "      <td>All Good</td>\n",
       "      <td>https://www.cloudskillsboost.google/public_pro...</td>\n",
       "      <td>0</td>\n",
       "      <td>0</td>\n",
       "      <td>0</td>\n",
       "    </tr>\n",
       "    <tr>\n",
       "      <th>1</th>\n",
       "      <td>Manav</td>\n",
       "      <td>manavmandal3101@gmail.com</td>\n",
       "      <td>Kamla Nehru Institute of Technology, Sultanpur</td>\n",
       "      <td>Mon Apr 25 2022 20:03:18 GMT+0530 (India Stand...</td>\n",
       "      <td>All Good</td>\n",
       "      <td>https://www.cloudskillsboost.google/public_pro...</td>\n",
       "      <td>0</td>\n",
       "      <td>0</td>\n",
       "      <td>0</td>\n",
       "    </tr>\n",
       "    <tr>\n",
       "      <th>2</th>\n",
       "      <td>Adhnan E</td>\n",
       "      <td>adnan.eriyadan@gmail.com</td>\n",
       "      <td>Kamla Nehru Institute of Technology, Sultanpur</td>\n",
       "      <td>Mon Apr 25 2022 20:04:08 GMT+0530 (India Stand...</td>\n",
       "      <td>All Good</td>\n",
       "      <td>https://www.cloudskillsboost.google/public_pro...</td>\n",
       "      <td>0</td>\n",
       "      <td>0</td>\n",
       "      <td>0</td>\n",
       "    </tr>\n",
       "    <tr>\n",
       "      <th>3</th>\n",
       "      <td>Shivam Ravindra Kopare</td>\n",
       "      <td>kopareshivam@gmail.com</td>\n",
       "      <td>Kamla Nehru Institute of Technology, Sultanpur</td>\n",
       "      <td>Mon Apr 25 2022 20:04:10 GMT+0530 (India Stand...</td>\n",
       "      <td>All Good</td>\n",
       "      <td>https://www.cloudskillsboost.google/public_pro...</td>\n",
       "      <td>4</td>\n",
       "      <td>0</td>\n",
       "      <td>0</td>\n",
       "    </tr>\n",
       "    <tr>\n",
       "      <th>4</th>\n",
       "      <td>Sakshi Tapase</td>\n",
       "      <td>selfsakshi226@gmail.com</td>\n",
       "      <td>[Referred] Bajaj Institute of Technology, Wardha</td>\n",
       "      <td>Mon Apr 25 2022 20:04:36 GMT+0530 (India Stand...</td>\n",
       "      <td>All Good</td>\n",
       "      <td>https://www.qwiklabs.com/public_profiles/41b20...</td>\n",
       "      <td>0</td>\n",
       "      <td>0</td>\n",
       "      <td>0</td>\n",
       "    </tr>\n",
       "  </tbody>\n",
       "</table>\n",
       "</div>"
      ],
      "text/plain": [
       "             Student Name              Student Email  \\\n",
       "0            Aniket Nayak  sikunaniket1234@gmail.com   \n",
       "1                   Manav  manavmandal3101@gmail.com   \n",
       "2                Adhnan E   adnan.eriyadan@gmail.com   \n",
       "3  Shivam Ravindra Kopare     kopareshivam@gmail.com   \n",
       "4           Sakshi Tapase    selfsakshi226@gmail.com   \n",
       "\n",
       "                                        Institution  \\\n",
       "0    Kamla Nehru Institute of Technology, Sultanpur   \n",
       "1    Kamla Nehru Institute of Technology, Sultanpur   \n",
       "2    Kamla Nehru Institute of Technology, Sultanpur   \n",
       "3    Kamla Nehru Institute of Technology, Sultanpur   \n",
       "4  [Referred] Bajaj Institute of Technology, Wardha   \n",
       "\n",
       "                               Enrolment Date & Time Enrolment Status  \\\n",
       "0  Mon Apr 25 2022 20:03:03 GMT+0530 (India Stand...         All Good   \n",
       "1  Mon Apr 25 2022 20:03:18 GMT+0530 (India Stand...         All Good   \n",
       "2  Mon Apr 25 2022 20:04:08 GMT+0530 (India Stand...         All Good   \n",
       "3  Mon Apr 25 2022 20:04:10 GMT+0530 (India Stand...         All Good   \n",
       "4  Mon Apr 25 2022 20:04:36 GMT+0530 (India Stand...         All Good   \n",
       "\n",
       "               Google Cloud Skills Boost Profile URL  # of Quests Completed  \\\n",
       "0  https://www.cloudskillsboost.google/public_pro...                      0   \n",
       "1  https://www.cloudskillsboost.google/public_pro...                      0   \n",
       "2  https://www.cloudskillsboost.google/public_pro...                      0   \n",
       "3  https://www.cloudskillsboost.google/public_pro...                      4   \n",
       "4  https://www.qwiklabs.com/public_profiles/41b20...                      0   \n",
       "\n",
       "   # of Skill Badges Completed  mine  \n",
       "0                            0     0  \n",
       "1                            0     0  \n",
       "2                            0     0  \n",
       "3                            0     0  \n",
       "4                            0     0  "
      ]
     },
     "execution_count": 7,
     "metadata": {},
     "output_type": "execute_result"
    }
   ],
   "source": [
    "df.head()"
   ]
  },
  {
   "cell_type": "code",
   "execution_count": 19,
   "id": "fe78e4c4",
   "metadata": {},
   "outputs": [],
   "source": [
    "def get_info(email,df):\n",
    "    \n",
    "    return (df[df[\"Student Email\"]==str(email)][\"Student Name\"])"
   ]
  },
  {
   "cell_type": "code",
   "execution_count": 20,
   "id": "9f3cb89d",
   "metadata": {},
   "outputs": [
    {
     "data": {
      "text/plain": [
       "702    Rudransh Srivastava\n",
       "Name: Student Name, dtype: object"
      ]
     },
     "execution_count": 20,
     "metadata": {},
     "output_type": "execute_result"
    }
   ],
   "source": [
    "(get_info(\"rudald8@gmail.com\",df))"
   ]
  },
  {
   "cell_type": "code",
   "execution_count": null,
   "id": "e13809d9",
   "metadata": {},
   "outputs": [],
   "source": []
  }
 ],
 "metadata": {
  "kernelspec": {
   "display_name": "Python 3 (ipykernel)",
   "language": "python",
   "name": "python3"
  },
  "language_info": {
   "codemirror_mode": {
    "name": "ipython",
    "version": 3
   },
   "file_extension": ".py",
   "mimetype": "text/x-python",
   "name": "python",
   "nbconvert_exporter": "python",
   "pygments_lexer": "ipython3",
   "version": "3.7.1"
  }
 },
 "nbformat": 4,
 "nbformat_minor": 5
}
